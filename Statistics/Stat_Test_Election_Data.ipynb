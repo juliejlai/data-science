---
title: 'Lab 1: Comparing Means'
author: "Wesley Kwong, Julie Lai, Anjali Unnithan"
output:
  pdf_document: default
  html_document:
    df_print: paged
---

```{r, include=FALSE}
options(tinytex.verbose = TRUE)
```

```{r, echo=FALSE,message=FALSE,warning=FALSE}
# Set so that long lines in R will be wrapped:
knitr::opts_chunk$set(tidy.opts=list(width.cutoff=60), tidy=TRUE)
```

```{r}
library(formatR)
```

```{r}
library(ggplot2)
```

# The Data

The American National Election Studies (ANES) conducts surveys of voters in the United States.  While its flagship survey occurs every four years at the time of each presidential election, ANES also conducts pilot studies midway between these elections.  You are provided with data from the 2018 ANES Pilot Study.

For a glimpse into some of the intricacies that go into the design of this study, take a look at the introduction to the [ANES User's Guide and Codebook](https://electionstudies.org/wp-content/uploads/2019/02/anes_pilot_2018_userguidecodebook.pdf).

It is important to consider the way that the ANES sample was created.  Survery participants are taken from the YouGov panel, which is an online system in which users earn rewards for completing questionnaires.  This feature limits the extent to which results generalize to the U.S. population.

To partially account for differences between the YouGov panel and the U.S. Population, ANES assigns a survey weight to each observation.  This weight estimates the degree to which a citizen with certain observed characteristics is over- or under-represented in the sample.  For the purposes of this assignment, however, you are not asked to use the survey weights.  (For groups with a strong interest in survey analysis, we recommend that you read about R's [survey package](http://r-survey.r-forge.r-project.org/survey/).  We will assign a very small number of bonus points (up to 3) to any group that correctly applies the survey weights and includes a clear explanation of how these work).

```{r}
A = read.csv("anes_pilot_2018.csv")
```

Following is an example of a question asked on the ANES survey:

> _How difficult was it for you to vote in this last election?_

The variable `votehard` records answers to this question, with the following encoding:

- -1 inapplicable, legitimate skip
- 1 Not difficult at all
- 2 A little difficult
- 3 Moderately difficult
- 4 Very difficult
- 5 Extremely difficult


To see the precise form of each question, take a look at the [Questionnaire Specifications](https://electionstudies.org/wp-content/uploads/2018/12/anes_pilot_2018_questionnaire.pdf).

# Assignment

You will use the ANES dataset to address five research questions.  For each question, you will need to operationalize the concepts (selecting appropriate variables and possibly transforming them), conduct exploratory analysis, deal with non-response and other special codes, perform sanity checks, select an appropriate hypothesis test, conduct the test, and interpret your results.  When selecting a hypothesis test, you may choose from the tests covered in the async videos and readings.  These include both paired and unpaired t-tests, Wilcoxon rank-sum test, Wilcoxon signed-rank test, and sign test.  You may select a one-tailed or two-tailed test.

## Submission Guidelines
- Please organize your response according to the prompts in this notebook.
- Note that this is a group lab and your instructor will assign you to your team. 
- Please limit your submission to 5000 words, not counting code or figures.
- Submit _one_ report per group.
- Submit *both* your pdf report as well as your source (rmd) file.
- **Only analyses and comments included in your PDF report will be considered for grading.**
- Include names of group members on the front page of the submitted report.
- Naming structure of submitted files:
    - PDF report: [student_surname_1]\_[student_surname_2][\_*]\_lab\_1.pdf
    - R-markdown: [student_surname_1]\_[student_surname_2][\_*]\_lab\_1.rmd
    
# Research Questions

## Question 1: Do US voters have more respect for the police or for journalists?

### Introduce your topic briefly.  (5 points)
#### Explain how your variables are operationalized.  Comment on any gaps that you can identify between your operational definitions and the concepts you are trying to study.

For this particular question, we are exploring the columns ‘ftpolice’ and ‘ftjournal’. Survey participants were asked to rate police and journalists on a temperature scale of 0 (very cold or unfavorable feeling), 15 (quite cold or unfavorable feeling), 30 (fairly cold or unfavorable feeling), 40 (a bit more cold or unfavorable than warm), 50 (no feeling at all), 60 (a bit more warm or favorable feeling than cold), 70 (fairly warm or favorable feeling), 85 (quite warm or favorable feeling), and 100 (very warm or favorable feeling). However, we noticed that the scale was presented unequally with the middle being partitioned in intervals of 10 and the ends have an interval of 15. So though the values appear to be on a metric scale, we believe that both variables are on an ordinal scale.

We had also questioned the manner in which the feeling thermometer scale was created. What would motivate some participants to select very specific values like 43 or 68, for instance? Participants are presented with a thermometer widget where they can click on a point in the thermometer to best describe their sentiment for a question, and it could happen that participants place the widget at a random point in the thermometer in the area that best corresponds to their feelings. 

### Perform an exploratory data analysis (EDA) of the relevant variables. (5 points)
#### This should include a treatment of non-response and other special codes, basic sanity checks, and a justification for any values that are removed.  Use visual tools to assess the relationship among your variables and comment on any features you find.

Based on the codebook, missing values and nonresponses have their own numeric codes, where -1 represents an inapplicable answer/skip. For example, a “how strongly do you favor that” follow-up question would be coded -1 when the preceding answer was “oppose.” -4 represents an other/error, where data is missing due to technical issues, and -7 represents a “no answer” where “the question was displayed to the respondent, but the R clicked “Next” without answering the question”. Here, we assume that ‘R’ means respondent.

We noticed that the range of values for ‘ftjournal’ was [-7, 100] in the codebook, and we found that 2 of 2500 ‘ftjournal’ values were -7. We chose to remove those respondents. In the ‘ftpolice’ column, there are no missing values. For the test, we will eliminate the two rows from the data that correspond to the nonresponse in the ‘ftjournal’ column. 

We will bucket our values based on the intervals given by the thermal scale, with the first bucket being 0-15 (excluding 0, including 15), second bucket being 15-30, and so on, and our last bucket being 85 to 100. We chose to do this because we don’t expect values within a particular bucket to be significantly different from one another, like 10 and 14 for example. We then relabeled our buckets from 1 to 8, with bucket 1 corresponding to the 0-15 scores and 8 corresponding to the 85-100 bucket. 

```{r}
#Find the rows where ftjournal has a nonresponse (-7) and eliminate those rows
police_ints = A$ftpolice[!A$ftjournal %in% c(-7)]
journal_ints <- A$ftjournal[!A$ftjournal %in% c(-7)]
#Bucket the ftpolice and ftjournal values into intervals from 1 to 8
police_ints = cut(police_ints, c(-1, 15, 30, 40, 50, 60, 70, 85, 100), labels=1:8)
journal_ints = cut(journal_ints, c(-1, 15, 30, 40, 50, 60, 70, 85, 100), labels=1:8)
```


```{r}
#Histograms of ftpolice and ftjournal distributions prior to bucketing
hist(A$ftpolice, xlab = 'ftpolice', ylab = "Counts", 
     main = "Histogram of ftpolice (before bucketing)", col = 'blue')
hist(A$ftjournal, xlab = 'ftjournal', ylab = "Counts", 
     main = "Histogram of ftjournal (before bucketing)", col = 'red')
```

```{r}
#Histograms of police_ints and journal_ints distributions after bucketing into intervals 1 through 8. 
hist(as.numeric(police_ints), xlab = 'police_ints', ylab = "Counts", 
     main = "Histogram of police_ints (after bucketing)", col = 'blue')
hist(as.numeric(journal_ints), xlab = 'journal_ints', ylab = "Counts", 
     main = "Histogram of journal_ints (after bucketing)", col = 'red')

```

After plotting the histograms for the distribution of ‘ftpolice’ after bucketing the values from 1 to 8, there appears to be a skew to the left, where there are multiple respondents who had warm and favorable feelings, and as the scale went down to bucket 1, there were fewer respondents. However, the histogram for ‘ftjournal’ after bucketing, looks much more different and more polarized, with two large peaks at bucket 1 and 8. This could perhaps suggest that the respondents generally feel more warm towards police on average than to journalists. 


### Based on your EDA, select an appropriate hypothesis test.  (5 points)
#### Explain why your test is the most appropriate choice.  List and evaluate all assumptions for your test.

We have decided to use the two-sided sign test. The assumptions for the test are as follows: the data is ordinal and the data pairs are IID. We believe that the two random variables are paired since the respect of police is affected by journalism and how much people believe in the news is affected by the respect for journalists. Also, the data is IID because the questions were randomly sorted and answered only once by each survey participant. Success is defined as a survey participant rated police higher than journalism and failure is a participant rated police lower to journalism.

Our null hypothesis is that the probability of success is 0.5. This means that there is an equal number of people who rated police higher than journalism to the number of people who rated police lower than journalism. Our alternative hypothesis is that the probability of success does not equal 0.5. This means that the number of successes and failures isn’t similar.


### Conduct your test. (5 points)
#### Explain (1) the statistical significance of your result, and (2) the practical significance of your result.  Make sure you relate your findings to the original research question.

#USING SIGNED RANK TEST 
```{r}
more_fav_police = sum(as.numeric(police_ints)  > as.numeric(journal_ints), na.rm=T)
trials = sum( as.numeric(police_ints)  > as.numeric(journal_ints) | 
                as.numeric(police_ints)  < as.numeric(journal_ints), na.rm=T)
binom.test(more_fav_police , trials)
```

Because our p-value is 2.705e-15, our test is highly significant and we reject the null hypothesis that the probability of success equals 0.5. In this test, success is defined as a voter’s score for police is greater than their score for journalists. Seeing that the sign test gives us a probability of success around 0.588, which suggests a higher probability of police scoring higher (feeling more respect for police than for journalists). Also, by looking at the histograms and their means, we see that the average score for police scores is higher than the average score of journalism scores, which confirms our sign test. Ultimately, the practical significance of this test is that US voters have more respect for the police than for the journalists.

## Question 2: Are Republican voters older or younger than Democratic voters?

### Introduce your topic briefly.  (5 points)

Our variables for the question are the ages of Democratic voters and the ages of Republican voters. The values they give us in the ‘birthyr’ column are their years of birth that we can convert into age by subtracting the birth year from 2020 (the year this survey was taken). Age is a metric variable because you can take differences, as well as means and variances. 

To identify party affiliation, we used the ‘pid7x’ column, which is the 7 point party Id summary column. Values are coded as -7 (no answer), 1 (Strong Dem), 2 (Not very strong Dem), 3 (Ind, closer to Dem), 4 (Independent), 5 (Ind, closer to Rep),  6 (Not very strong Rep),  7 (Strong Rep). Also, we noticed that 98 people did not answer, which is a fairly small subset of people compared to the approximately 2400 people who did answer the question. We will need to remove all the rows that contain -7 as a value. This column is ordinal since there is a sliding gradient of how one person feels between the two main parties at the ends of the gradient. However, the intervals themselves are not in a metric scale.

Because the question asks for Democrat vs Republican, we had to do some exploration into the various columns focusing on party affiliation, which also includes ‘pid1d’, ‘pid1r’, ‘pidstr’, etc. We made the decision to go with ‘pid7x’ because it appears that those who fill the survey only get either one of the two questions associated with ‘pid1d’ and ‘pid1r’. 


### Perform an exploratory data analysis (EDA) of the relevant variables. (5 points)

As stated above, we will calculate the age of the survey participants by subtracting 2020 by their listed birth year.  For party affiliation, we grouped the people who listed 1 and 2 for ‘pid7x’ as Democrats and the people who listed 6 and 7 as Republicans. Plotting the histograms of age vs Democrats and age vs Republicans, we see that the two distributions are fairly similar, with peaks around the 60-62 years of age, and a vast majority of voters between the ages of 20-60. To the right of the distributions at the 60 year bucket, there is a right skew, since there is a decline of voters as they reach the age of 80. 

```{r}
#Selecting the relevant columns pid7x and birthyr and creating new dataframe
df <- data.frame(A$pid7x, 2020 - A$birthyr)
colnames(df) <- c("Party", "Age")

#Subsetting democrat and republican respondents
#pid = 1 and 2 democrat, pid = 6 and 7 republican
dem <- df[ which(df$Party == 1 | df$Party == 2), ]
rep <- df[ which(df$Party == 6 | df$Party == 7), ]

#Histograms of Age for Democrat and Republican respondents
hist(subset(df, Party ==  1 | Party ==  2)$Age, col = "blue", 
     main = 'Histogram of Ages for Democrat Respondents', 
     xlab = 'Age', ylab = 'Counts', xlim = c(10, 100))
hist(subset(df, Party == 6 | Party ==  7)$Age, col = "red", 
     main = 'Histogram of Ages for Republican Respondents', 
     xlab = 'Age', ylab = "Counts", xlim = c(10, 100))
```

### Based on your EDA, select an appropriate hypothesis test.  (5 points)

Since the number of Democrats and Republicans is not the same, we cannot use a paired t-test. We used an unpaired parametric t-test because we have met all the assumptions. The assumptions are: metric scale, IID data, and no major deviations from normality. The age variable, after converting it from the year of birth column, is a metric variable. We also assume that each participant’s age is independent from one another and randomly selected from the population. After plotting the respective histograms for the ages of Democrats and ages of Republicans, there was slight skewness amongst the distributions, but it was somewhat normal overall with large peaks around age 60. Overall, there are more Democrats than Republicans in our sample, but the distributions look very similar. Since our sample size is bigger than 30, we can assume that CLT holds and that the population distributions for ages for both political parties is fairly normal. 

Our null hypothesis is that the average age of Republican voters is the same as the average age of Democrat voters. Our alternative hypothesis is that the average age of Republican voters is different than the average age of Democrat voters. 


### Conduct your test. (5 points)
```{r}
t.test(dem$Age, rep$Age, paired=FALSE)
```

Our two sample t-test gives us that the mean of x (ages of Democrats) and the mean of y (ages of Republicans) are 52.23337 and 54.89803 respectively. Our two sample t-test also gives us a p-value of 0.002868 which allows us to reject the null hypothesis that the average age of Democrats is equal to the average age of Republicans. This suggests that our two sample t-test is statistically significant. The practical significance is that on average, Republican voters are 2.66466 years older than democrat voters.


## Question 3: Do a majority of independent voters believe that the federal investigations of Russian election interference are baseless?

### Introduce your topic briefly.  (5 points)

The columns of interest are ‘russia16’ and ‘pid7x’. The variable ‘pid7x’ (explained in question 2) designates the value 3 to be Independent, but more Democrat leaning, 4 to be Independent, and 5 to be Independent, but more Republican leaning. We are only interested in the values that correspond to independent or independent leaning voters. 

The variable ‘russia16’ is defined as (1) Russia probably interfered, and (2) This probably did not happen.  For the ‘russia16’ question, only 3 participants did not respond, and so we will eliminate those participants due to our sample size being very large.


### Perform an exploratory data analysis (EDA) of the relevant variables. (5 points)
```{r}
#Label the numerical responses as party labels
#-8 = non-response
#1, 2 = Democrat
#3, 4, 5 = Independent
#6, 7 = Republican
party = cut(A$pid7x, c(-8, 0, 2, 5, 7), 
            labels=c("No Answer","Democrat", "Independent", "Republican"))

#Create a dataframe using the relevant histograms
data = data.frame(A$russia16, party)
colnames(data) <- c("Russia", "Party")
head(data)

#Percentage of nonresponses that are Independent voters
sprintf('Percentage of nonresponses that are Independent voters: %f ', 
        nrow(data[data$Party == 'Independent' & data$Russia == -7,])/nrow(data[data$Party == 'Independent',]))
```

```{r}
#For independent voters, we only consider responses 3, 4, and 5 for the Party column
ind <- data[ which(data$Party == 'Independent' & data$Russia > 0), ]

ggplot(ind) + geom_bar(aes(as.factor(Russia)), fill = 'green') + 
  ggtitle('Number of Independent Respondents Who Voted on Russian Interference') + 
  xlab('1 = Russia interfered, 2 = This probably did not happen') + 
  ylab("Counts")

```

We would only be considering the voters who put ‘pid7x’ as 3, 4, and 5. Because only 98 of our participants did not answer the ‘pid7x’ question, we don’t need to consider those rows, as that amount is small compared to the number of those who answered the question. 

Out of the number of independent voters, the proportion of those who did not answer the Russian interference question was 0.106%. Only 1 of those 3 was an independent voter, meaning that the other 2 identified as another party. Because we would lose only 1 voter from this analysis, we made the decision to remove them from the analysis, given that we already have a large enough sample size. Out of the number of people who we considered to be independent voters, around 53.3% of them indicated that Russia would probably interfere, while 46.6% of them indicated the opposite. We will need to run our test to see if this difference in percentages are statistically significant. 

### Based on your EDA, select an appropriate hypothesis test.  (5 points)

We chose to do a one sample, two sided t-test. We are working with binary data after filtering out the independent voters, since the only options for the ‘russia16’ question are 1 or 2, provided that we delete the nonresponse. The assumptions are that the variable is metric since we can count the number of times 1 and the number of times 2 appears in russia16. The rows are IID since every survey participant needed to select where on the gradient they felt they most aligned to in ‘pid7x’. Our sample size is 935 observations so CLT applies here despite our responses being binary and non-normal.

Our null hypothesis is that the true mean for ‘russia16’ is 1.5. This means that there is an equal split for (1) Russia probably interfered would be equal to the number of those who voted (2) This probably did not happen. Our alternative hypothesis is that there is no equal split in response for ‘russia16’ so mu does not equal 1.5.


### Conduct your test. (5 points)

```{r}
#choices are either 1 or 2, so mu = 1.5 if there is no difference in the number of votes. 
t.test(ind$Russia, alternative = "two.sided", mu=1.5) 
```

Our result gives us a p-value of 0.04265, which allows us to reject the null hypothesis that the true mean is not equal to 1.5. Since our p-value is less than 0.05, we can make the conclusion that our test is statistically significant and that there is a statistically significant difference between the number of Independent voters who voted (1) versus (2).  Our one sample t-test also gives us a mean of 1.46688, which tells us that more Independent voters voted for (1) Russia probably interfered. Therefore, our practical significance is that the majority of independent voters do not believe that the federal investigations of Russian election interference are baseless.


## Question 4: Was anger or fear more effective at driving increases in voter turnout from 2016 to 2018?

### Introduce your topic briefly.  (5 points)

To answer this question, we are interested in the variables ‘geangry’ and ‘geafraid’. The variable ‘geangry’ asks: How do you feel about the way things are going in the country these days? How angry do you feel? The variable ‘geafraid’ asks: How do you feel about the way things are going in the country these days? How afraid do you feel? There is another variable ‘geworry’ that asks how worried voters feel. We chose to use ‘geafraid’ over ‘geworry’ because we felt this variable corresponded more to what the question was asking for, which was fear.

‘geangry’ and ‘geafraid’ are both ranked on a Likert scale, meaning on a scale from range 0 to 5, 1 suggests ‘not at all’ and 5 suggests ‘extremely’. This is an ordinal scale, meaning we know that there is an order but we cannot make comparisons between the levels.

We must also consider the second part of this question: the increase in voter turnout from 2016 to 2018. When running our test, we must only consider a certain subset of respondents: ones who did not vote in 2016 but did vote in 2018. This would indicate the increase in voter turnout. 

### Perform an exploratory data analysis (EDA) of the relevant variables. (5 points)

We noticed that there were 3 nonresponses/”No Answer” for ‘geangry’ and 6 nonresponses/”No Answer” for ‘geafraid’. We wanted to see whether the same respondents were there for both variables, and we saw that the respondents corresponding to the data indices 2025, 2311, and 2491 had respondents who provided no answer to both these questions. For ‘geafraid’, there were three additional respondents who did not answer. We made the decision to eliminate those 6 respondents from our data, because we still end up with a large enough data sample to perform a test. 

```{r}
#Find row number with missing values 
which(A$geangry %in% c(-7))
which(A$geafraid %in% c(-7))
```

We then had to subset the rows where people didn’t vote in 2016 but did in 2018, and after all the filtering, there are 96 rows that meet all the conditions. This allows us to answer the “increases in voter turnout” part of the question. We are assuming that these rows did not have any people who were not eligible to vote in 2016 but were eligible to vote in 2018.

When plotting the histograms for the ‘geangry’ and ‘geafraid’ variables after subsetting the rows, we notice that ‘geangry’ has a more uniform distribution of responses with a peak at response 3, whereas ‘geafarid’ had a slight right skew towards the lower end of the scale.  

```{r}
# removing rows with missing values
A5 = A[A$geafraid != -7, ]

# looking at only the rows where did not vote in 2016, but did in 2018
A5_new = A5[A5$turnout16 == 2 & (A5$turnout18 == 1 | A5$turnout18 == 2 | A5$turnout18 == 3), ]
```

```{r}
hist(A5_new$geangry, main = 'Histogram of geangry', 
     xlab = "Values for geangry", ylab = 'Counts', col = 'orange')
hist(A5_new$geafraid, main = 'Histogram of geafraid', 
     xlab = "Values for geafraid", ylab = 'Counts', col = 'pink')
```

### Based on your EDA, select an appropriate hypothesis test.  (5 points)

We decided to choose the Sign Test where the paired variables are ‘geangry’ and ‘geafraid’. This satisfies the ordinal assumption since both variables are both ranked on a Likert scale. The samples are IID despite the fact that we are selecting the people who did not vote in 2016 and did vote in 2018. In R, we are performing the Sign Test by using a binomial test function. Success is defined as a participant rated ‘geangry’ higher than ‘geafraid’, which means people feel more angry than afraid. Failure is defined as a participant rated ‘geangry’ lower than ‘geafraid’, meaning people feel more afraid than angry). 

Our null hypothesis is that the probability of success is equal to 0.5. This means that there is an equal number of people who rated angry higher than afraid to the number of people who rated angry lower than afraid. The alternative hypothesis is that the probability of success does not equal 0.5. This means that the number of successes and failures isn’t similar.


### Conduct your test. (5 points)

```{r}
more_angry = sum(A5_new$geangry > A5_new$geafraid, na.rm=T)
trials_angry_fear = sum( A5_new$geangry  > A5_new$geafraid | 
                           A5_new$geangry  < A5_new$geafraid, na.rm=T)
binom.test(more_angry , trials_angry_fear)
```

Since we have a p-value of 1, we do not have a statistically significant result and therefore fail to reject the null hypothesis that the probability of success equals to 0.5. The practical significance of this result is that anger and fear were equally effective at driving increases in voter turnout from 2016 to 2018. We can also see from the histograms that the distributions were fairly similar to each other, which corresponds to our high p-value that there is not a significance in anger or fear driving increases in voter turnout. 

## Question 5: Select a fifth question that you believe is important for understanding the behavior of voters

The question we want to answer is: Are Republican voters more likely to believe in the American Dream (in context to racial minorities rather than economic backgrounds) than Democratic voters?


### Clearly argue for the relevance of this question.  (10 points)
#### In words, clearly state your research question and argue why it is important for understanding the recent voting behavior. Explain it as if you were presenting to an audience that includes technical and non technical members.

The American Dream is a long-time held ideology that you are guaranteed to be successful if you work hard. This ideology defines freedom as the opportunity for success and social mobility that can be available for anybody. Our question addresses whether voters believe if the American Dream can still apply to racial minorities despite the record-high levels of inequality. This question is especially important in our recent political climate, because it brings to light the inherent class and racial divisions in this country and whether the American Dream is a myth or only benefits a small percentage of the American population that already have a racial or financial advantage. We would like to investigate if different political parties have varying opinions regarding this ideology. 

#### Explain how your variables are operationalized.  Comment on any gaps that you can identify between your operational definitions and the concepts you are trying to study.

We are looking at the variable ‘rr4’ which asks the voters: Do you agree strongly, agree somewhat, neither agree nor disagree, disagree somewhat, or disagree strongly with the following statement, “It’s really a matter of some people not trying hard enough; if black would only try harder, they could be just as well off as whites”. This variable is operationalized on an ordinal scale. Specifically, this variable is defined on a Likert scale, where 1 corresponds to ‘agree strongly’ and 5 corresponds to ‘disagree strongly’.	

To identify party affiliation (as we did in question 2), we used the pid7x column, which is the 7 point party ID summary column. Values are coded as -7 (no answer), 1 (Strong Dem), 2 (Not very strong Dem), 3 (Ind, closer to Dem), 4 (Independent), 5 (Ind, closer to Rep),  6 (Not very strong Rep),  7 (Strong Rep). This column is ordinal since there is a sliding gradient of how one person feels between the two parties at the ends of the gradient. However, the intervals themselves are not in a metric scale.

In the remainder of this report, when we refer to American Dream, we refer to American Dream in the context of racial minorities, because the question that ‘rr4’ poses implies race in regards to this ideology. 

### Perform EDA and select your hypothesis test (5 points)

#### Perform an exploratory data analysis (EDA) of the relevant variables. This should include a treatment of non-response and other special codes, basic sanity checks, and a justification for any values that are removed.  Use visual tools to assess the relationship among your variables and comment on any features you find.

For ‘rr4’, we saw a relatively uniform distribution across the possible gradient. There are 4 people who did not answer this question, so we chose to omit these rows. For party affiliation, we saw most people identified themselves as a Strong Dem, Independent, or Strong Rep and less people identified as aligning to one political party. So we grouped the people who listed 1 and 2 for ‘pid7x’ as Democrats and the people who listed 6 and 7 as Republicans. There were 98 people who did not answer this question, so we also chose to omit these rows.

After removing missing values and selecting our subsets of Democrat and Republican voters, we plotted two histograms, one for each political party, of the distributions of ‘rr4’ values. We see that for Democrat voters, there is an apparent skew left, with many ‘rr4’ values being 5 (disagree strongly), and very few values being 1 (agree strongly). On the other hand, for Republican voters, there is an apparent skew right, with the majority of values being 1 and 2, while there is a very small proportion of voters who indicated 5. This visualization leads us to consider a one-sided test.

```{r}
rr4_no_missing = A[A$rr4 != -7, ]
dems = rr4_no_missing[which(rr4_no_missing$pid7x == 1 | rr4_no_missing$pid7x == 2), ]
reps = rr4_no_missing[which(rr4_no_missing$pid7x == 6 | rr4_no_missing$pid7x == 7), ]
```

```{r}
hist(dems$rr4, main = 'Histogram of Democrat Responses to rr4', 
     xlab = 'rr4 responses', ylab = 'Counts', col = "blue")
hist(reps$rr4, main = 'Histogram of Republican Responses to rr4', 
     xlab = 'rr4 responses', ylab = 'Counts', col = 'red')
```


#### Based on your EDA, select an appropriate hypothesis test. Explain why your test is the most appropriate choice.  List and evaluate all assumptions for your test.

Both of our variables are on an ordinal scale, and because our data is unpaired and there is no underlying distribution, we chose to do a one-tailed Wilcoxon Rank Sum Test. The data is unpaired because the number of Democrat and Republican voters is different. The assumptions are that the random variables are on an ordinal scale and each pair is IID. Our random variables are on an ordinal scale since ‘rr4’ is based on the Likert scale and party affiliation follows a gradient. Our data is IID since we ensure that every survey applicant received the party affiliation question and can only respond once to ‘rr4’.

The null hypothesis of comparisons is that the scores of Republicans will be the same as the scores of Democrats. This is synonymous to saying that the feeling that Republicans have towards the American dream (in the context of the ‘rr4’ statement) will be the same as the feeling that Democrats have towards the American dream.

Our alternative hypothesis is that the scores of Republicans will be lower than the scores of Democrats. In other words, the probability of Republicans giving high scores (around 5) is less than the probability of Democrats giving high scores, since higher scores correspond to not believing in the American Dream. 

### Conduct your test. (2 points)
#### Explain (1) the statistical significance of your result, and (2) the practical significance of your result.

```{r}
wilcox.test(reps$rr4, dems$rr4, alternative = 'less', paired = FALSE)
```

```{r}
#Create a dataframe to run the correlation test
parties = rep(c("Democrat", "Republican"), c(nrow(dems), nrow(reps)))
rr4_values = c(dems$rr4, reps$rr4)
df = data.frame(parties, rr4_values)
```

```{r}
#Correlation Test
cortest = cor.test(as.numeric(df$parties), df$rr4_values, method='spearman')
cortest$estimate
```

After running a one-sided Wilcoxon Rank Sum Test with our alternative hypothesis being that the scores of Republicans will be less than the scores of Democrats, we receive a low p-value less than 2.2e-6 which tells us that our test is statistically significant. Moreover, our p-value allows us to fail to reject the null hypothesis that the scores of Republicans are equal to the scores of Democrats. When we calculated Spearman’s rank correlation, we got rho as -0.558461. Since rho is smaller than -0.5, there is a strong relationship between party affiliation and rr4 response. The practical significance of this result is that Republicans still believe that the American Dream can still apply to racial minorities whereas the Democrats do not believe this ideology can apply.

### Conclusion (3 points)
#### Clearly state the conclusion of your hypothesis test and how it relates to your research question.

#### Finally, briefly present your conclusion in words as if you were presenting to an audience that includes technical and non technical members.

The big idea of our research question is to see if there is a relationship between voter party affiliation (specifically Democrats and Republicans) and if the American Dream (if people work hard enough, they can succeed) can apply to racial minorities who often have barriers blocking their way. The question we looked at asked the voter how they felt about the following question: “It’s really a matter of some people not trying hard enough; if blacks would only try harder, they could be just as well off as whites.” The voters rate this question on a Likert scale of 1-5 (with 1 being strongly agreed and 5 being strongly disagree). In our Wilcoxon Rank Sum test, we are looking at how the ratings of Republicans differ from the ratings of Democrats. Using a one-tailed test with the alternative hypothesis that the ratings of Republicans are less than the ratings of Democrats, we received a low p-value which tells us that we reject our null hypothesis and our alternative hypothesis is statistically significant. We also calculated Spearman’s rank correlation and got a correlation of -0.558461, which indicates there is a strong relationship between party affiliation and belief in the American Dream. Furthermore, looking at the histograms of ratings per voter party affiliation, we see a large difference in Republican and Democratic voting, where Republican scores skew far to the left and Democratic scores skew far to the right. In conclusion, the Wilcoxon Rank Sum test demonstrated that Republicans still believe that the American Dream can still apply to racial minorities whereas the Democrats do not believe this ideology can apply.






